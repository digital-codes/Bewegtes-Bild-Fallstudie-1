{
 "cells": [
  {
   "cell_type": "markdown",
   "metadata": {},
   "source": [
    "# Interactive quizzes with JupyterQuiz\n",
    "\n",
    "For interactive quizzes focused on direct feedback and concerning small pieces of knowledge we use [JupyterQuiz](https://github.com/jmshea/jupyterquiz). It allows for a variety of different question and answer types and can give the learners immediate feedback."
   ]
  }
 ],
 "metadata": {
  "language_info": {
   "name": "python"
  }
 },
 "nbformat": 4,
 "nbformat_minor": 2
}
